{
 "cells": [
  {
   "cell_type": "code",
   "execution_count": 2,
   "id": "79f9babf-ba10-4fa1-af9d-68f51bf4e12b",
   "metadata": {},
   "outputs": [
    {
     "data": {
      "text/plain": [
       "'ms AWS < ©) Pytho e Launc e Instan (ws) Home @ jupyte\\n<\\n\\nco Untitl\\n\\nC © localhost:8888/notebooks/Test.ipynb\\n\\nEI Download music, m... +, Bard\\n\\n+\\n\\n== Claude - ChatBot Te... ¢ AWS Management... ™ AWS Ski\\n\\n* jupyter Test Last Checkpoint: 7 minutes ago\\n\\nFile Edit View Run Kernel Settings Help\\n\\n@+ Xk 0 © >» &@ CGC » Code v\\n\\n# Install Tesseract OCR and set the path to the Tesseract executable\\n!pip install tesseract-ocr\\n\\n!pip install pytesseract\\n!pip install pyautogui\\n\\n‘ms AWS < ©) Pytho e Launc e Instan (ws) Home @ jupyte\\\\n<\\\\n\\\\nco Untitl\\\\\\n\\\\natl\\\\n\\\\n—-— Claitda —~ ChatRat Ta\\n\\nd AWS Managamant ™ AIC Clei7\\\\n\\\\n* arin\\n'"
      ]
     },
     "metadata": {},
     "output_type": "display_data"
    },
    {
     "name": "stdout",
     "output_type": "stream",
     "text": [
      "Interrupted\n"
     ]
    }
   ],
   "source": [
    "# Install Tesseract OCR and set the path to the Tesseract executable\n",
    "!pip install tesseract-ocr\n",
    "!pip install pytesseract\n",
    "!pip install pyautogui\n",
    "\n"
   ]
  },
  {
   "cell_type": "code",
   "execution_count": null,
   "id": "9c88a2ef-9f5a-4098-b74e-d4f1f6633721",
   "metadata": {},
   "outputs": [],
   "source": [
    "\n",
    "import pyautogui\n",
    "import pytesseract\n",
    "from PIL import Image\n",
    "from IPython.display import display, clear_output\n",
    "\n",
    "# Set the path to the Tesseract executable\n",
    "pytesseract.pytesseract.tesseract_cmd = r'C:\\Program Files\\Tesseract-OCR\\tesseract.exe'\n",
    "\n",
    "# Screen resolution\n",
    "screen_width, screen_height = pyautogui.size()\n",
    "\n",
    "# Define the region to capture (adjust according to the area of interest)\n",
    "capture_region = (0, 0, screen_width // 2, screen_height // 2)\n",
    "\n",
    "try:\n",
    "    while True:\n",
    "        # Take a screenshot of the defined region\n",
    "        screenshot = pyautogui.screenshot(region=capture_region)\n",
    "\n",
    "        # Perform OCR on the screenshot\n",
    "        extracted_text = pytesseract.image_to_string(screenshot)\n",
    "\n",
    "        # Clear previous output and display the extracted text\n",
    "        clear_output(wait=True)\n",
    "        display(extracted_text)\n",
    "except KeyboardInterrupt:\n",
    "    print(\"Interrupted\")\n"
   ]
  },
  {
   "cell_type": "code",
   "execution_count": null,
   "id": "f2affea0-6e7f-474d-b4df-51b7460788d8",
   "metadata": {},
   "outputs": [
    {
     "data": {
      "text/plain": [
       "'® Test x Configure passwordless autheni X\\n\\n€ > X @ github.com/sessions/trusted-device\\n\\nEI Download music, m... +, Bard cL Claude - ChatBot Te... ¢ AWS Manage\\n\\nConfigt\\n'"
      ]
     },
     "metadata": {},
     "output_type": "display_data"
    }
   ],
   "source": [
    "import cv2\n",
    "import pytesseract\n",
    "import numpy as np\n",
    "from PIL import Image\n",
    "import time\n",
    "from selenium import webdriver\n",
    "from IPython.display import clear_output, display\n",
    "\n",
    "import pyautogui\n",
    "import pytesseract\n",
    "from PIL import Image\n",
    "from IPython.display import display, clear_output\n",
    "\n",
    "# Set the path to the Tesseract executable\n",
    "pytesseract.pytesseract.tesseract_cmd = r'C:\\Program Files\\Tesseract-OCR\\tesseract.exe'\n",
    "\n",
    "# Start Chrome browser\n",
    "options = webdriver.ChromeOptions()\n",
    "options.add_argument('--start-maximized')  # Maximize the window for full-screen recording\n",
    "\n",
    "# Initialize the Chrome browser\n",
    "driver = webdriver.Chrome(options=options)\n",
    "\n",
    "# URL of the website you want to record\n",
    "driver.get('https://www.example.com')  # Replace with your desired URL\n",
    "\n",
    "# Give some time for the page to load (adjust this time as needed)\n",
    "time.sleep(5)\n",
    "\n",
    "# Get the window position and size for recording\n",
    "window_position_x = driver.execute_script('return window.screenX;')\n",
    "window_position_y = driver.execute_script('return window.screenY;')\n",
    "window_width = driver.execute_script('return window.outerWidth;')\n",
    "window_height = driver.execute_script('return window.outerHeight;')\n",
    "\n",
    "try:\n",
    "    while True:\n",
    "        # Capture the screen of the Chrome window using PIL\n",
    "        screenshot = pyautogui.screenshot(region=(window_position_x, window_position_y, window_width, window_height))\n",
    "\n",
    "        # Convert the screenshot to OpenCV format\n",
    "        frame = cv2.cvtColor(np.array(screenshot), cv2.COLOR_RGB2BGR)\n",
    "\n",
    "        # Perform OCR on the frame\n",
    "        extracted_text = pytesseract.image_to_string(frame)\n",
    "\n",
    "        # Clear previous output and display the extracted text\n",
    "        clear_output(wait=True)\n",
    "        display(extracted_text)\n",
    "except KeyboardInterrupt:\n",
    "    print(\"Recording stopped by user\")\n",
    "\n",
    "# Close the Chrome browser\n",
    "driver.quit()\n"
   ]
  },
  {
   "cell_type": "code",
   "execution_count": 8,
   "id": "fd86b740-f5c1-4c65-82b6-469d9ec86945",
   "metadata": {},
   "outputs": [
    {
     "name": "stdout",
     "output_type": "stream",
     "text": [
      "Collecting selenium\n",
      "  Downloading selenium-4.16.0-py3-none-any.whl.metadata (6.9 kB)\n",
      "Requirement already satisfied: urllib3<3,>=1.26 in c:\\users\\mrema\\anaconda3\\envs\\testenv\\lib\\site-packages (from urllib3[socks]<3,>=1.26->selenium) (2.1.0)\n",
      "Collecting trio~=0.17 (from selenium)\n",
      "  Downloading trio-0.23.1-py3-none-any.whl.metadata (4.9 kB)\n",
      "Collecting trio-websocket~=0.9 (from selenium)\n",
      "  Downloading trio_websocket-0.11.1-py3-none-any.whl.metadata (4.7 kB)\n",
      "Requirement already satisfied: certifi>=2021.10.8 in c:\\users\\mrema\\anaconda3\\envs\\testenv\\lib\\site-packages (from selenium) (2023.11.17)\n",
      "Requirement already satisfied: attrs>=20.1.0 in c:\\users\\mrema\\anaconda3\\envs\\testenv\\lib\\site-packages (from trio~=0.17->selenium) (23.1.0)\n",
      "Collecting sortedcontainers (from trio~=0.17->selenium)\n",
      "  Downloading sortedcontainers-2.4.0-py2.py3-none-any.whl (29 kB)\n",
      "Requirement already satisfied: idna in c:\\users\\mrema\\anaconda3\\envs\\testenv\\lib\\site-packages (from trio~=0.17->selenium) (3.6)\n",
      "Collecting outcome (from trio~=0.17->selenium)\n",
      "  Downloading outcome-1.3.0.post0-py2.py3-none-any.whl.metadata (2.6 kB)\n",
      "Requirement already satisfied: sniffio>=1.3.0 in c:\\users\\mrema\\anaconda3\\envs\\testenv\\lib\\site-packages (from trio~=0.17->selenium) (1.3.0)\n",
      "Requirement already satisfied: cffi>=1.14 in c:\\users\\mrema\\anaconda3\\envs\\testenv\\lib\\site-packages (from trio~=0.17->selenium) (1.16.0)\n",
      "Requirement already satisfied: exceptiongroup>=1.0.0rc9 in c:\\users\\mrema\\anaconda3\\envs\\testenv\\lib\\site-packages (from trio~=0.17->selenium) (1.2.0)\n",
      "Collecting wsproto>=0.14 (from trio-websocket~=0.9->selenium)\n",
      "  Downloading wsproto-1.2.0-py3-none-any.whl (24 kB)\n",
      "Collecting pysocks!=1.5.7,<2.0,>=1.5.6 (from urllib3[socks]<3,>=1.26->selenium)\n",
      "  Downloading PySocks-1.7.1-py3-none-any.whl (16 kB)\n",
      "Requirement already satisfied: pycparser in c:\\users\\mrema\\anaconda3\\envs\\testenv\\lib\\site-packages (from cffi>=1.14->trio~=0.17->selenium) (2.21)\n",
      "Collecting h11<1,>=0.9.0 (from wsproto>=0.14->trio-websocket~=0.9->selenium)\n",
      "  Downloading h11-0.14.0-py3-none-any.whl (58 kB)\n",
      "     ---------------------------------------- 0.0/58.3 kB ? eta -:--:--\n",
      "     ---------------------------------------- 58.3/58.3 kB 3.2 MB/s eta 0:00:00\n",
      "Downloading selenium-4.16.0-py3-none-any.whl (10.0 MB)\n",
      "   ---------------------------------------- 0.0/10.0 MB ? eta -:--:--\n",
      "    --------------------------------------- 0.2/10.0 MB 7.3 MB/s eta 0:00:02\n",
      "   -- ------------------------------------- 0.5/10.0 MB 8.0 MB/s eta 0:00:02\n",
      "   --- ------------------------------------ 0.8/10.0 MB 6.3 MB/s eta 0:00:02\n",
      "   ---- ----------------------------------- 1.1/10.0 MB 6.2 MB/s eta 0:00:02\n",
      "   ----- ---------------------------------- 1.4/10.0 MB 6.2 MB/s eta 0:00:02\n",
      "   ------ --------------------------------- 1.6/10.0 MB 6.1 MB/s eta 0:00:02\n",
      "   ------- -------------------------------- 2.0/10.0 MB 6.2 MB/s eta 0:00:02\n",
      "   -------- ------------------------------- 2.2/10.0 MB 6.1 MB/s eta 0:00:02\n",
      "   --------- ------------------------------ 2.4/10.0 MB 6.0 MB/s eta 0:00:02\n",
      "   ---------- ----------------------------- 2.7/10.0 MB 6.1 MB/s eta 0:00:02\n",
      "   ----------- ---------------------------- 3.0/10.0 MB 5.9 MB/s eta 0:00:02\n",
      "   ------------ --------------------------- 3.2/10.0 MB 5.9 MB/s eta 0:00:02\n",
      "   ------------- -------------------------- 3.5/10.0 MB 5.8 MB/s eta 0:00:02\n",
      "   --------------- ------------------------ 3.8/10.0 MB 5.7 MB/s eta 0:00:02\n",
      "   ---------------- ----------------------- 4.0/10.0 MB 5.8 MB/s eta 0:00:02\n",
      "   ---------------- ----------------------- 4.2/10.0 MB 5.7 MB/s eta 0:00:02\n",
      "   ---------------- ----------------------- 4.2/10.0 MB 5.3 MB/s eta 0:00:02\n",
      "   ------------------ --------------------- 4.6/10.0 MB 5.4 MB/s eta 0:00:01\n",
      "   ------------------- -------------------- 4.9/10.0 MB 5.5 MB/s eta 0:00:01\n",
      "   --------------------- ------------------ 5.3/10.0 MB 5.6 MB/s eta 0:00:01\n",
      "   ---------------------- ----------------- 5.5/10.0 MB 5.5 MB/s eta 0:00:01\n",
      "   ----------------------- ---------------- 5.9/10.0 MB 5.6 MB/s eta 0:00:01\n",
      "   ------------------------ --------------- 6.2/10.0 MB 5.7 MB/s eta 0:00:01\n",
      "   ------------------------- -------------- 6.5/10.0 MB 5.7 MB/s eta 0:00:01\n",
      "   -------------------------- ------------- 6.7/10.0 MB 5.5 MB/s eta 0:00:01\n",
      "   --------------------------- ------------ 7.0/10.0 MB 5.6 MB/s eta 0:00:01\n",
      "   ----------------------------- ---------- 7.3/10.0 MB 5.7 MB/s eta 0:00:01\n",
      "   ------------------------------ --------- 7.6/10.0 MB 5.7 MB/s eta 0:00:01\n",
      "   ------------------------------- -------- 7.7/10.0 MB 5.6 MB/s eta 0:00:01\n",
      "   ------------------------------- -------- 7.9/10.0 MB 5.5 MB/s eta 0:00:01\n",
      "   -------------------------------- ------- 8.1/10.0 MB 5.5 MB/s eta 0:00:01\n",
      "   --------------------------------- ------ 8.3/10.0 MB 5.5 MB/s eta 0:00:01\n",
      "   ---------------------------------- ----- 8.6/10.0 MB 5.5 MB/s eta 0:00:01\n",
      "   ----------------------------------- ---- 8.7/10.0 MB 5.4 MB/s eta 0:00:01\n",
      "   ------------------------------------ --- 9.0/10.0 MB 5.5 MB/s eta 0:00:01\n",
      "   ------------------------------------- -- 9.3/10.0 MB 5.4 MB/s eta 0:00:01\n",
      "   ------------------------------------- -- 9.3/10.0 MB 5.4 MB/s eta 0:00:01\n",
      "   ------------------------------------- -- 9.4/10.0 MB 5.3 MB/s eta 0:00:01\n",
      "   -------------------------------------- - 9.7/10.0 MB 5.2 MB/s eta 0:00:01\n",
      "   -------------------------------------- - 9.7/10.0 MB 5.2 MB/s eta 0:00:01\n",
      "   -------------------------------------- - 9.7/10.0 MB 5.2 MB/s eta 0:00:01\n",
      "   ---------------------------------------  9.8/10.0 MB 4.9 MB/s eta 0:00:01\n",
      "   ---------------------------------------  10.0/10.0 MB 5.0 MB/s eta 0:00:01\n",
      "   ---------------------------------------- 10.0/10.0 MB 4.9 MB/s eta 0:00:00\n",
      "Downloading trio-0.23.1-py3-none-any.whl (448 kB)\n",
      "   ---------------------------------------- 0.0/448.3 kB ? eta -:--:--\n",
      "   --------------- ------------------------ 174.1/448.3 kB 5.1 MB/s eta 0:00:01\n",
      "   ---------------------------------------  440.3/448.3 kB 5.5 MB/s eta 0:00:01\n",
      "   ---------------------------------------- 448.3/448.3 kB 4.7 MB/s eta 0:00:00\n",
      "Downloading trio_websocket-0.11.1-py3-none-any.whl (17 kB)\n",
      "Downloading outcome-1.3.0.post0-py2.py3-none-any.whl (10 kB)\n",
      "Installing collected packages: sortedcontainers, pysocks, outcome, h11, wsproto, trio, trio-websocket, selenium\n",
      "Successfully installed h11-0.14.0 outcome-1.3.0.post0 pysocks-1.7.1 selenium-4.16.0 sortedcontainers-2.4.0 trio-0.23.1 trio-websocket-0.11.1 wsproto-1.2.0\n",
      "Note: you may need to restart the kernel to use updated packages.\n"
     ]
    }
   ],
   "source": [
    "pip install selenium"
   ]
  },
  {
   "cell_type": "code",
   "execution_count": null,
   "id": "0473d25e-31f3-4e72-bfaa-9a13df92aa63",
   "metadata": {},
   "outputs": [],
   "source": []
  }
 ],
 "metadata": {
  "kernelspec": {
   "display_name": "Python 3 (ipykernel)",
   "language": "python",
   "name": "python3"
  },
  "language_info": {
   "codemirror_mode": {
    "name": "ipython",
    "version": 3
   },
   "file_extension": ".py",
   "mimetype": "text/x-python",
   "name": "python",
   "nbconvert_exporter": "python",
   "pygments_lexer": "ipython3",
   "version": "3.9.18"
  }
 },
 "nbformat": 4,
 "nbformat_minor": 5
}
